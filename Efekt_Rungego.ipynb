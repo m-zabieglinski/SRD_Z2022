{
 "cells": [
  {
   "cell_type": "markdown",
   "id": "427598b9",
   "metadata": {},
   "source": [
    "## Efekt Rungego"
   ]
  },
  {
   "cell_type": "code",
   "execution_count": 1,
   "id": "9227b2ef",
   "metadata": {},
   "outputs": [],
   "source": [
    "from sklearn.preprocessing import PolynomialFeatures\n",
    "from sklearn.linear_model import LinearRegression\n",
    "from sklearn.pipeline import make_pipeline\n",
    "import matplotlib.pyplot as plt\n",
    "import numpy as np"
   ]
  },
  {
   "cell_type": "code",
   "execution_count": 2,
   "id": "bb5ec257",
   "metadata": {},
   "outputs": [],
   "source": [
    "f = lambda x : 1/(1+25*x**2)"
   ]
  },
  {
   "cell_type": "code",
   "execution_count": 15,
   "id": "8d22ff3b",
   "metadata": {},
   "outputs": [],
   "source": [
    "def PolynomialReg(X,y,degree):\n",
    "    return make_pipeline(PolynomialFeatures(degree),LinearRegression()).fit(X,y)"
   ]
  },
  {
   "cell_type": "code",
   "execution_count": 27,
   "id": "c25c4dd2",
   "metadata": {},
   "outputs": [],
   "source": [
    "#Estymacja regresji wielomianowych na 210 wartościach funkcji\n",
    "X = np.arange(-1.0,1.1,0.01).reshape(-1,1)\n",
    "y = np.array([f(x) for x in X])\n",
    "degrees = [2,10,50,100,200,300,400,500,1000]\n",
    "models = [PolynomialReg(X, y, degree) for degree in degrees]"
   ]
  },
  {
   "cell_type": "code",
   "execution_count": 28,
   "id": "5952def4",
   "metadata": {},
   "outputs": [
    {
     "data": {
      "text/plain": [
       "[0.5091622079487905,\n",
       " 0.16693738586131462,\n",
       " 0.003989135407370822,\n",
       " 49.62341163100535,\n",
       " 1440242.8769676038,\n",
       " 2010780344.6434345,\n",
       " 17303434340.29856,\n",
       " 590373057499.5039,\n",
       " 901364955699813.5]"
      ]
     },
     "execution_count": 28,
     "metadata": {},
     "output_type": "execute_result"
    }
   ],
   "source": [
    "#Estymacja maksymalnego błędu predykcji na większej liczbie punktów\n",
    "X2 = np.arange(-1.0,1.1,0.0001).reshape(-1,1)\n",
    "y2 = np.array([f(x) for x in X2])\n",
    "predictions = [m.predict(X2) for m in models]\n",
    "max_error = [max(np.abs(y2-e))[0] for e in predictions]\n",
    "max_error"
   ]
  },
  {
   "cell_type": "code",
   "execution_count": 29,
   "id": "bf8ffd98",
   "metadata": {},
   "outputs": [
    {
     "data": {
      "image/png": "[encoded data removed]",
      "text/plain": [
       "<Figure size 720x432 with 1 Axes>"
      ]
     },
     "metadata": {
      "needs_background": "light"
     },
     "output_type": "display_data"
    }
   ],
   "source": [
    "plt.figure(figsize=(10, 6))\n",
    "plt.bar([str(d) for d in degrees],max_error,log=1)\n",
    "plt.ylabel(\"Maksimum błędu predykcji ($x \\in <-1;1>$)\")\n",
    "plt.xlabel(\"Stopień wielomianu\");"
   ]
  }
 ],
 "metadata": {
  "kernelspec": {
   "display_name": "Python 3 (ipykernel)",
   "language": "python",
   "name": "python3"
  },
  "language_info": {
   "codemirror_mode": {
    "name": "ipython",
    "version": 3
   },
   "file_extension": ".py",
   "mimetype": "text/x-python",
   "name": "python",
   "nbconvert_exporter": "python",
   "pygments_lexer": "ipython3",
   "version": "3.9.10"
  }
 },
 "nbformat": 4,
 "nbformat_minor": 5
}
