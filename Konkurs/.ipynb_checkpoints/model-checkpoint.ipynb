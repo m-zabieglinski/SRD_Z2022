{
 "cells": [
  {
   "cell_type": "code",
   "execution_count": 88,
   "id": "fc0da546",
   "metadata": {
    "scrolled": true
   },
   "outputs": [
    {
     "data": {
      "text/html": [
       "<div>\n",
       "<style scoped>\n",
       "    .dataframe tbody tr th:only-of-type {\n",
       "        vertical-align: middle;\n",
       "    }\n",
       "\n",
       "    .dataframe tbody tr th {\n",
       "        vertical-align: top;\n",
       "    }\n",
       "\n",
       "    .dataframe thead th {\n",
       "        text-align: right;\n",
       "    }\n",
       "</style>\n",
       "<table border=\"1\" class=\"dataframe\">\n",
       "  <thead>\n",
       "    <tr style=\"text-align: right;\">\n",
       "      <th></th>\n",
       "      <th>IsIPA</th>\n",
       "      <th>OG</th>\n",
       "      <th>FG</th>\n",
       "      <th>ABV</th>\n",
       "      <th>IBU</th>\n",
       "      <th>Color</th>\n",
       "      <th>BoilTime</th>\n",
       "      <th>BoilGravity</th>\n",
       "      <th>PitchRate</th>\n",
       "      <th>Efficiency</th>\n",
       "      <th>UserId</th>\n",
       "    </tr>\n",
       "  </thead>\n",
       "  <tbody>\n",
       "    <tr>\n",
       "      <th>0</th>\n",
       "      <td>False</td>\n",
       "      <td>1.069</td>\n",
       "      <td>1.007</td>\n",
       "      <td>8.12</td>\n",
       "      <td>0.00</td>\n",
       "      <td>30.48</td>\n",
       "      <td>60</td>\n",
       "      <td>NaN</td>\n",
       "      <td>NaN</td>\n",
       "      <td>75.0</td>\n",
       "      <td>NaN</td>\n",
       "    </tr>\n",
       "    <tr>\n",
       "      <th>1</th>\n",
       "      <td>False</td>\n",
       "      <td>1.064</td>\n",
       "      <td>1.012</td>\n",
       "      <td>6.80</td>\n",
       "      <td>9.36</td>\n",
       "      <td>9.85</td>\n",
       "      <td>60</td>\n",
       "      <td>1.132</td>\n",
       "      <td>0.50</td>\n",
       "      <td>35.0</td>\n",
       "      <td>NaN</td>\n",
       "    </tr>\n",
       "    <tr>\n",
       "      <th>2</th>\n",
       "      <td>False</td>\n",
       "      <td>1.061</td>\n",
       "      <td>1.015</td>\n",
       "      <td>6.08</td>\n",
       "      <td>28.31</td>\n",
       "      <td>35.83</td>\n",
       "      <td>60</td>\n",
       "      <td>1.044</td>\n",
       "      <td>0.35</td>\n",
       "      <td>83.0</td>\n",
       "      <td>42087.0</td>\n",
       "    </tr>\n",
       "    <tr>\n",
       "      <th>3</th>\n",
       "      <td>False</td>\n",
       "      <td>1.053</td>\n",
       "      <td>1.012</td>\n",
       "      <td>5.44</td>\n",
       "      <td>46.48</td>\n",
       "      <td>5.77</td>\n",
       "      <td>60</td>\n",
       "      <td>1.033</td>\n",
       "      <td>NaN</td>\n",
       "      <td>70.0</td>\n",
       "      <td>NaN</td>\n",
       "    </tr>\n",
       "    <tr>\n",
       "      <th>4</th>\n",
       "      <td>False</td>\n",
       "      <td>1.053</td>\n",
       "      <td>1.017</td>\n",
       "      <td>4.64</td>\n",
       "      <td>42.29</td>\n",
       "      <td>4.22</td>\n",
       "      <td>90</td>\n",
       "      <td>1.039</td>\n",
       "      <td>0.50</td>\n",
       "      <td>77.0</td>\n",
       "      <td>14729.0</td>\n",
       "    </tr>\n",
       "  </tbody>\n",
       "</table>\n",
       "</div>"
      ],
      "text/plain": [
       "   IsIPA     OG     FG   ABV    IBU  Color  BoilTime  BoilGravity  PitchRate  \\\n",
       "0  False  1.069  1.007  8.12   0.00  30.48        60          NaN        NaN   \n",
       "1  False  1.064  1.012  6.80   9.36   9.85        60        1.132       0.50   \n",
       "2  False  1.061  1.015  6.08  28.31  35.83        60        1.044       0.35   \n",
       "3  False  1.053  1.012  5.44  46.48   5.77        60        1.033        NaN   \n",
       "4  False  1.053  1.017  4.64  42.29   4.22        90        1.039       0.50   \n",
       "\n",
       "   Efficiency   UserId  \n",
       "0        75.0      NaN  \n",
       "1        35.0      NaN  \n",
       "2        83.0  42087.0  \n",
       "3        70.0      NaN  \n",
       "4        77.0  14729.0  "
      ]
     },
     "execution_count": 88,
     "metadata": {},
     "output_type": "execute_result"
    }
   ],
   "source": [
    "import pandas as pd\n",
    "\n",
    "IPA = pd.read_csv(\"ipa.csv\")\n",
    "\n",
    "IPA.head()"
   ]
  },
  {
   "cell_type": "code",
   "execution_count": 89,
   "id": "8ca794b1",
   "metadata": {},
   "outputs": [
    {
     "data": {
      "text/plain": [
       "(37000, 11)"
      ]
     },
     "execution_count": 89,
     "metadata": {},
     "output_type": "execute_result"
    }
   ],
   "source": [
    "IPA.shape"
   ]
  },
  {
   "cell_type": "markdown",
   "id": "d4d97ce3",
   "metadata": {},
   "source": [
    "Issues with IMBLearn, don't have time to fix. Won't resample the dataset properly.\n",
    "\n",
    "Will use a decision tree instead of earlier intended RL."
   ]
  },
  {
   "cell_type": "code",
   "execution_count": 90,
   "id": "f74d0f91",
   "metadata": {
    "scrolled": true
   },
   "outputs": [
    {
     "data": {
      "text/plain": [
       "IsIPA           0.000000\n",
       "OG              0.000000\n",
       "FG              0.000000\n",
       "ABV             0.000000\n",
       "IBU             0.000000\n",
       "Color           0.000000\n",
       "BoilTime        0.000000\n",
       "BoilGravity     3.589189\n",
       "PitchRate      53.094595\n",
       "Efficiency      0.000000\n",
       "UserId         68.778378\n",
       "dtype: float64"
      ]
     },
     "execution_count": 90,
     "metadata": {},
     "output_type": "execute_result"
    }
   ],
   "source": [
    "IPA.isnull().mean() * 100"
   ]
  },
  {
   "cell_type": "code",
   "execution_count": 91,
   "id": "20096643",
   "metadata": {},
   "outputs": [
    {
     "data": {
      "text/plain": [
       "(35672, 9)"
      ]
     },
     "execution_count": 91,
     "metadata": {},
     "output_type": "execute_result"
    }
   ],
   "source": [
    "IPA = IPA.drop(columns = [\"PitchRate\", \"UserId\"])\n",
    "IPA = IPA.dropna()\n",
    "IPA.shape"
   ]
  },
  {
   "cell_type": "code",
   "execution_count": 92,
   "id": "7b57c713",
   "metadata": {},
   "outputs": [
    {
     "data": {
      "text/plain": [
       "((35672, 8), (35672,))"
      ]
     },
     "execution_count": 92,
     "metadata": {},
     "output_type": "execute_result"
    }
   ],
   "source": [
    "X = IPA.drop(columns = \"IsIPA\")\n",
    "y = IPA.IsIPA.astype(int)\n",
    "\n",
    "X.shape, y.shape"
   ]
  },
  {
   "cell_type": "code",
   "execution_count": 24,
   "id": "ed7eebe0",
   "metadata": {
    "scrolled": false
   },
   "outputs": [
    {
     "data": {
      "text/plain": [
       "0    24273\n",
       "1    11399\n",
       "Name: IsIPA, dtype: int64"
      ]
     },
     "execution_count": 24,
     "metadata": {},
     "output_type": "execute_result"
    }
   ],
   "source": [
    "y.value_counts()"
   ]
  },
  {
   "cell_type": "code",
   "execution_count": 25,
   "id": "7b425ccf",
   "metadata": {},
   "outputs": [
    {
     "data": {
      "text/plain": [
       "36549    1\n",
       "17426    0\n",
       "33107    0\n",
       "14195    0\n",
       "29175    0\n",
       "Name: IsIPA, dtype: int32"
      ]
     },
     "execution_count": 25,
     "metadata": {},
     "output_type": "execute_result"
    }
   ],
   "source": [
    "from sklearn.model_selection import train_test_split\n",
    "X_train, X_test, y_train, y_test = train_test_split(X, y)\n",
    "y_train.head()"
   ]
  },
  {
   "cell_type": "markdown",
   "id": "01f9167a",
   "metadata": {},
   "source": [
    "#### Model\n",
    "Let's use some simple tree model from tutorials."
   ]
  },
  {
   "cell_type": "code",
   "execution_count": 26,
   "id": "e2b51a58",
   "metadata": {},
   "outputs": [],
   "source": [
    "from sklearn import tree"
   ]
  },
  {
   "cell_type": "code",
   "execution_count": 28,
   "id": "6eb8a0f0",
   "metadata": {},
   "outputs": [],
   "source": [
    "CART = tree.DecisionTreeRegressor(random_state = 2137, ccp_alpha = 0.0)\n",
    "CART_model = CART.fit(X_train, y_train)"
   ]
  },
  {
   "cell_type": "code",
   "execution_count": 29,
   "id": "52a8e258",
   "metadata": {},
   "outputs": [
    {
     "data": {
      "text/plain": [
       "(37, 3483)"
      ]
     },
     "execution_count": 29,
     "metadata": {},
     "output_type": "execute_result"
    }
   ],
   "source": [
    "CART_model.get_depth(), CART_model.get_n_leaves()"
   ]
  },
  {
   "cell_type": "code",
   "execution_count": 31,
   "id": "48e91ad9",
   "metadata": {},
   "outputs": [],
   "source": [
    "def RMSE(model, X, y):\n",
    "    return np.sqrt(((model.predict(X) - y)**2).mean())#But we can view this as multiclass classification"
   ]
  },
  {
   "cell_type": "code",
   "execution_count": 34,
   "id": "79525a32",
   "metadata": {},
   "outputs": [
    {
     "name": "stdout",
     "output_type": "stream",
     "text": [
      "First tree with ccp_alpha: 0.00, nodes: 6929, leaves: 3465\n",
      "Last tree with ccp_alpha: 0.00, nodes: 9, leaves: 5\n"
     ]
    }
   ],
   "source": [
    "path = CART.cost_complexity_pruning_path(X_train, y_train)\n",
    "ccp_alphas, impurities = path.ccp_alphas[::5], path.impurities[::5]\n",
    "\n",
    "clfs = []\n",
    "for ccp_alpha in ccp_alphas:\n",
    "    clf = tree.DecisionTreeRegressor(random_state = 42, ccp_alpha = ccp_alpha)\n",
    "    clf.fit(X_train, y_train)\n",
    "    clfs.append(clf)\n",
    "for order, ind in [('First', 0), ('Last', -1)]:\n",
    "    print(f\"{order} tree with ccp_alpha: {ccp_alphas[ind]:.2f}, \" +\n",
    "          f\"nodes: {clfs[ind].tree_.node_count}, leaves: {clfs[ind].get_n_leaves()}\")"
   ]
  },
  {
   "cell_type": "code",
   "execution_count": 37,
   "id": "6a43ff69",
   "metadata": {},
   "outputs": [
    {
     "data": {
      "text/plain": [
       "(0.0, 0.32006078384515074)"
      ]
     },
     "execution_count": 37,
     "metadata": {},
     "output_type": "execute_result"
    }
   ],
   "source": [
    "test_scores = [RMSE(clf, X_test, y_test) for clf in clfs]\n",
    "train_scores = [RMSE(clf, X_train, y_train) for clf in clfs]\n",
    "min(train_scores), min(test_scores)"
   ]
  },
  {
   "cell_type": "code",
   "execution_count": 39,
   "id": "bbda8610",
   "metadata": {
    "scrolled": true
   },
   "outputs": [
    {
     "data": {
      "text/plain": [
       "0.00013750284281974158"
      ]
     },
     "execution_count": 39,
     "metadata": {},
     "output_type": "execute_result"
    }
   ],
   "source": [
    "import numpy as np\n",
    "Best_CART = clfs[np.argmin(test_scores)]\n",
    "Best_CART.ccp_alpha"
   ]
  },
  {
   "cell_type": "code",
   "execution_count": 40,
   "id": "a391f310",
   "metadata": {},
   "outputs": [
    {
     "data": {
      "text/html": [
       "<div>\n",
       "<style scoped>\n",
       "    .dataframe tbody tr th:only-of-type {\n",
       "        vertical-align: middle;\n",
       "    }\n",
       "\n",
       "    .dataframe tbody tr th {\n",
       "        vertical-align: top;\n",
       "    }\n",
       "\n",
       "    .dataframe thead th {\n",
       "        text-align: right;\n",
       "    }\n",
       "</style>\n",
       "<table border=\"1\" class=\"dataframe\">\n",
       "  <thead>\n",
       "    <tr style=\"text-align: right;\">\n",
       "      <th>IsIPA</th>\n",
       "      <th>0</th>\n",
       "      <th>1</th>\n",
       "    </tr>\n",
       "    <tr>\n",
       "      <th>row_0</th>\n",
       "      <th></th>\n",
       "      <th></th>\n",
       "    </tr>\n",
       "  </thead>\n",
       "  <tbody>\n",
       "    <tr>\n",
       "      <th>0.0</th>\n",
       "      <td>5445</td>\n",
       "      <td>684</td>\n",
       "    </tr>\n",
       "    <tr>\n",
       "      <th>1.0</th>\n",
       "      <td>552</td>\n",
       "      <td>2237</td>\n",
       "    </tr>\n",
       "  </tbody>\n",
       "</table>\n",
       "</div>"
      ],
      "text/plain": [
       "IsIPA     0     1\n",
       "row_0            \n",
       "0.0    5445   684\n",
       "1.0     552  2237"
      ]
     },
     "execution_count": 40,
     "metadata": {},
     "output_type": "execute_result"
    }
   ],
   "source": [
    "confmat = pd.crosstab(Best_CART.predict(X_test).round(), y_test.round())\n",
    "confmat"
   ]
  },
  {
   "cell_type": "markdown",
   "id": "6c0fd192",
   "metadata": {},
   "source": [
    "## Accuracy on test data"
   ]
  },
  {
   "cell_type": "code",
   "execution_count": 42,
   "id": "e84c0195",
   "metadata": {},
   "outputs": [
    {
     "name": "stdout",
     "output_type": "stream",
     "text": [
      "The model's accuracy is 0.8614039022202288\n"
     ]
    }
   ],
   "source": [
    "print(f\"The model's accuracy is {np.array([confmat.loc[i,i] for i in confmat.index]).sum()/confmat.sum().sum()}\")"
   ]
  },
  {
   "cell_type": "markdown",
   "id": "4a9f5c2b",
   "metadata": {},
   "source": [
    "# Getting predictions:"
   ]
  },
  {
   "cell_type": "code",
   "execution_count": 101,
   "id": "c632dd98",
   "metadata": {},
   "outputs": [
    {
     "data": {
      "text/html": [
       "<div>\n",
       "<style scoped>\n",
       "    .dataframe tbody tr th:only-of-type {\n",
       "        vertical-align: middle;\n",
       "    }\n",
       "\n",
       "    .dataframe tbody tr th {\n",
       "        vertical-align: top;\n",
       "    }\n",
       "\n",
       "    .dataframe thead th {\n",
       "        text-align: right;\n",
       "    }\n",
       "</style>\n",
       "<table border=\"1\" class=\"dataframe\">\n",
       "  <thead>\n",
       "    <tr style=\"text-align: right;\">\n",
       "      <th></th>\n",
       "      <th>OG</th>\n",
       "      <th>FG</th>\n",
       "      <th>ABV</th>\n",
       "      <th>IBU</th>\n",
       "      <th>Color</th>\n",
       "      <th>BoilTime</th>\n",
       "      <th>BoilGravity</th>\n",
       "      <th>PitchRate</th>\n",
       "      <th>Efficiency</th>\n",
       "      <th>UserId</th>\n",
       "    </tr>\n",
       "  </thead>\n",
       "  <tbody>\n",
       "    <tr>\n",
       "      <th>0</th>\n",
       "      <td>1.045</td>\n",
       "      <td>1.008</td>\n",
       "      <td>4.78</td>\n",
       "      <td>27.81</td>\n",
       "      <td>4.65</td>\n",
       "      <td>60</td>\n",
       "      <td>1.037</td>\n",
       "      <td>0.50</td>\n",
       "      <td>76.0</td>\n",
       "      <td>NaN</td>\n",
       "    </tr>\n",
       "    <tr>\n",
       "      <th>1</th>\n",
       "      <td>1.052</td>\n",
       "      <td>1.010</td>\n",
       "      <td>5.56</td>\n",
       "      <td>35.98</td>\n",
       "      <td>12.90</td>\n",
       "      <td>60</td>\n",
       "      <td>1.041</td>\n",
       "      <td>0.50</td>\n",
       "      <td>80.0</td>\n",
       "      <td>56565.0</td>\n",
       "    </tr>\n",
       "    <tr>\n",
       "      <th>2</th>\n",
       "      <td>1.079</td>\n",
       "      <td>1.021</td>\n",
       "      <td>7.64</td>\n",
       "      <td>64.83</td>\n",
       "      <td>41.03</td>\n",
       "      <td>75</td>\n",
       "      <td>1.058</td>\n",
       "      <td>1.00</td>\n",
       "      <td>70.0</td>\n",
       "      <td>15163.0</td>\n",
       "    </tr>\n",
       "    <tr>\n",
       "      <th>3</th>\n",
       "      <td>1.060</td>\n",
       "      <td>1.018</td>\n",
       "      <td>5.47</td>\n",
       "      <td>16.45</td>\n",
       "      <td>16.55</td>\n",
       "      <td>60</td>\n",
       "      <td>1.044</td>\n",
       "      <td>0.35</td>\n",
       "      <td>70.0</td>\n",
       "      <td>NaN</td>\n",
       "    </tr>\n",
       "    <tr>\n",
       "      <th>4</th>\n",
       "      <td>1.052</td>\n",
       "      <td>1.013</td>\n",
       "      <td>5.03</td>\n",
       "      <td>37.03</td>\n",
       "      <td>44.77</td>\n",
       "      <td>60</td>\n",
       "      <td>1.038</td>\n",
       "      <td>NaN</td>\n",
       "      <td>70.0</td>\n",
       "      <td>14759.0</td>\n",
       "    </tr>\n",
       "  </tbody>\n",
       "</table>\n",
       "</div>"
      ],
      "text/plain": [
       "      OG     FG   ABV    IBU  Color  BoilTime  BoilGravity  PitchRate  \\\n",
       "0  1.045  1.008  4.78  27.81   4.65        60        1.037       0.50   \n",
       "1  1.052  1.010  5.56  35.98  12.90        60        1.041       0.50   \n",
       "2  1.079  1.021  7.64  64.83  41.03        75        1.058       1.00   \n",
       "3  1.060  1.018  5.47  16.45  16.55        60        1.044       0.35   \n",
       "4  1.052  1.013  5.03  37.03  44.77        60        1.038        NaN   \n",
       "\n",
       "   Efficiency   UserId  \n",
       "0        76.0      NaN  \n",
       "1        80.0  56565.0  \n",
       "2        70.0  15163.0  \n",
       "3        70.0      NaN  \n",
       "4        70.0  14759.0  "
      ]
     },
     "execution_count": 101,
     "metadata": {},
     "output_type": "execute_result"
    }
   ],
   "source": [
    "IPA_test = pd.read_csv(\"IPA_test.csv\")\n",
    "IPA_test.head()"
   ]
  },
  {
   "cell_type": "code",
   "execution_count": 102,
   "id": "4204aec9",
   "metadata": {
    "scrolled": true
   },
   "outputs": [
    {
     "data": {
      "text/html": [
       "<div>\n",
       "<style scoped>\n",
       "    .dataframe tbody tr th:only-of-type {\n",
       "        vertical-align: middle;\n",
       "    }\n",
       "\n",
       "    .dataframe tbody tr th {\n",
       "        vertical-align: top;\n",
       "    }\n",
       "\n",
       "    .dataframe thead th {\n",
       "        text-align: right;\n",
       "    }\n",
       "</style>\n",
       "<table border=\"1\" class=\"dataframe\">\n",
       "  <thead>\n",
       "    <tr style=\"text-align: right;\">\n",
       "      <th></th>\n",
       "      <th>OG</th>\n",
       "      <th>FG</th>\n",
       "      <th>ABV</th>\n",
       "      <th>IBU</th>\n",
       "      <th>Color</th>\n",
       "      <th>BoilTime</th>\n",
       "      <th>BoilGravity</th>\n",
       "      <th>Efficiency</th>\n",
       "    </tr>\n",
       "  </thead>\n",
       "  <tbody>\n",
       "    <tr>\n",
       "      <th>0</th>\n",
       "      <td>1.045</td>\n",
       "      <td>1.008</td>\n",
       "      <td>4.78</td>\n",
       "      <td>27.81</td>\n",
       "      <td>4.65</td>\n",
       "      <td>60</td>\n",
       "      <td>1.037</td>\n",
       "      <td>76.0</td>\n",
       "    </tr>\n",
       "    <tr>\n",
       "      <th>1</th>\n",
       "      <td>1.052</td>\n",
       "      <td>1.010</td>\n",
       "      <td>5.56</td>\n",
       "      <td>35.98</td>\n",
       "      <td>12.90</td>\n",
       "      <td>60</td>\n",
       "      <td>1.041</td>\n",
       "      <td>80.0</td>\n",
       "    </tr>\n",
       "    <tr>\n",
       "      <th>2</th>\n",
       "      <td>1.079</td>\n",
       "      <td>1.021</td>\n",
       "      <td>7.64</td>\n",
       "      <td>64.83</td>\n",
       "      <td>41.03</td>\n",
       "      <td>75</td>\n",
       "      <td>1.058</td>\n",
       "      <td>70.0</td>\n",
       "    </tr>\n",
       "    <tr>\n",
       "      <th>3</th>\n",
       "      <td>1.060</td>\n",
       "      <td>1.018</td>\n",
       "      <td>5.47</td>\n",
       "      <td>16.45</td>\n",
       "      <td>16.55</td>\n",
       "      <td>60</td>\n",
       "      <td>1.044</td>\n",
       "      <td>70.0</td>\n",
       "    </tr>\n",
       "    <tr>\n",
       "      <th>4</th>\n",
       "      <td>1.052</td>\n",
       "      <td>1.013</td>\n",
       "      <td>5.03</td>\n",
       "      <td>37.03</td>\n",
       "      <td>44.77</td>\n",
       "      <td>60</td>\n",
       "      <td>1.038</td>\n",
       "      <td>70.0</td>\n",
       "    </tr>\n",
       "  </tbody>\n",
       "</table>\n",
       "</div>"
      ],
      "text/plain": [
       "      OG     FG   ABV    IBU  Color  BoilTime  BoilGravity  Efficiency\n",
       "0  1.045  1.008  4.78  27.81   4.65        60        1.037        76.0\n",
       "1  1.052  1.010  5.56  35.98  12.90        60        1.041        80.0\n",
       "2  1.079  1.021  7.64  64.83  41.03        75        1.058        70.0\n",
       "3  1.060  1.018  5.47  16.45  16.55        60        1.044        70.0\n",
       "4  1.052  1.013  5.03  37.03  44.77        60        1.038        70.0"
      ]
     },
     "execution_count": 102,
     "metadata": {},
     "output_type": "execute_result"
    }
   ],
   "source": [
    "X2 = IPA_test.drop(columns = [\"PitchRate\", \"UserId\"])\n",
    "X2.head()"
   ]
  },
  {
   "cell_type": "code",
   "execution_count": 103,
   "id": "2abd843b",
   "metadata": {
    "scrolled": true
   },
   "outputs": [
    {
     "data": {
      "text/plain": [
       "(OG             0.00\n",
       " FG             0.00\n",
       " ABV            0.00\n",
       " IBU            0.00\n",
       " Color          0.00\n",
       " BoilTime       0.00\n",
       " BoilGravity    3.12\n",
       " Efficiency     0.00\n",
       " dtype: float64,\n",
       " (5000, 8))"
      ]
     },
     "execution_count": 103,
     "metadata": {},
     "output_type": "execute_result"
    }
   ],
   "source": [
    "X2.isnull().mean() * 100, X2.shape"
   ]
  },
  {
   "cell_type": "code",
   "execution_count": 104,
   "id": "d1b8e54b",
   "metadata": {},
   "outputs": [
    {
     "data": {
      "text/plain": [
       "(OG             0.0\n",
       " FG             0.0\n",
       " ABV            0.0\n",
       " IBU            0.0\n",
       " Color          0.0\n",
       " BoilTime       0.0\n",
       " BoilGravity    0.0\n",
       " Efficiency     0.0\n",
       " dtype: float64,\n",
       " (5000, 8))"
      ]
     },
     "execution_count": 104,
     "metadata": {},
     "output_type": "execute_result"
    }
   ],
   "source": [
    "X2 = X2.fillna(X2.mean())\n",
    "X2.isnull().mean() * 100, X2.shape"
   ]
  },
  {
   "cell_type": "code",
   "execution_count": 105,
   "id": "6c98fc08",
   "metadata": {},
   "outputs": [
    {
     "data": {
      "text/plain": [
       "(array([0., 1.]), array([3460, 1540], dtype=int64))"
      ]
     },
     "execution_count": 105,
     "metadata": {},
     "output_type": "execute_result"
    }
   ],
   "source": [
    "np.unique(Best_CART.predict(X2).round(),return_counts = True)"
   ]
  },
  {
   "cell_type": "code",
   "execution_count": 110,
   "id": "69844d48",
   "metadata": {},
   "outputs": [
    {
     "data": {
      "text/plain": [
       "numpy.ndarray"
      ]
     },
     "execution_count": 110,
     "metadata": {},
     "output_type": "execute_result"
    }
   ],
   "source": [
    "y2 = Best_CART.predict(X2).round()\n",
    "type(y2)"
   ]
  },
  {
   "cell_type": "code",
   "execution_count": 111,
   "id": "cd565727",
   "metadata": {},
   "outputs": [
    {
     "data": {
      "text/html": [
       "<div>\n",
       "<style scoped>\n",
       "    .dataframe tbody tr th:only-of-type {\n",
       "        vertical-align: middle;\n",
       "    }\n",
       "\n",
       "    .dataframe tbody tr th {\n",
       "        vertical-align: top;\n",
       "    }\n",
       "\n",
       "    .dataframe thead th {\n",
       "        text-align: right;\n",
       "    }\n",
       "</style>\n",
       "<table border=\"1\" class=\"dataframe\">\n",
       "  <thead>\n",
       "    <tr style=\"text-align: right;\">\n",
       "      <th></th>\n",
       "      <th>0</th>\n",
       "    </tr>\n",
       "  </thead>\n",
       "  <tbody>\n",
       "    <tr>\n",
       "      <th>0</th>\n",
       "      <td>0.0</td>\n",
       "    </tr>\n",
       "    <tr>\n",
       "      <th>1</th>\n",
       "      <td>0.0</td>\n",
       "    </tr>\n",
       "    <tr>\n",
       "      <th>2</th>\n",
       "      <td>0.0</td>\n",
       "    </tr>\n",
       "    <tr>\n",
       "      <th>3</th>\n",
       "      <td>0.0</td>\n",
       "    </tr>\n",
       "    <tr>\n",
       "      <th>4</th>\n",
       "      <td>0.0</td>\n",
       "    </tr>\n",
       "    <tr>\n",
       "      <th>...</th>\n",
       "      <td>...</td>\n",
       "    </tr>\n",
       "    <tr>\n",
       "      <th>4995</th>\n",
       "      <td>1.0</td>\n",
       "    </tr>\n",
       "    <tr>\n",
       "      <th>4996</th>\n",
       "      <td>0.0</td>\n",
       "    </tr>\n",
       "    <tr>\n",
       "      <th>4997</th>\n",
       "      <td>0.0</td>\n",
       "    </tr>\n",
       "    <tr>\n",
       "      <th>4998</th>\n",
       "      <td>0.0</td>\n",
       "    </tr>\n",
       "    <tr>\n",
       "      <th>4999</th>\n",
       "      <td>0.0</td>\n",
       "    </tr>\n",
       "  </tbody>\n",
       "</table>\n",
       "<p>5000 rows × 1 columns</p>\n",
       "</div>"
      ],
      "text/plain": [
       "        0\n",
       "0     0.0\n",
       "1     0.0\n",
       "2     0.0\n",
       "3     0.0\n",
       "4     0.0\n",
       "...   ...\n",
       "4995  1.0\n",
       "4996  0.0\n",
       "4997  0.0\n",
       "4998  0.0\n",
       "4999  0.0\n",
       "\n",
       "[5000 rows x 1 columns]"
      ]
     },
     "execution_count": 111,
     "metadata": {},
     "output_type": "execute_result"
    }
   ],
   "source": [
    "y2 = pd.DataFrame(Y2)\n",
    "y2"
   ]
  },
  {
   "cell_type": "code",
   "execution_count": 112,
   "id": "814f479d",
   "metadata": {},
   "outputs": [],
   "source": [
    "y2.to_csv(\"[Decision Trees Or The Unexpected Virtue Of Ignorance]_IPA_prediction.csv\", index = False, header = False)"
   ]
  },
  {
   "cell_type": "code",
   "execution_count": null,
   "id": "05835068",
   "metadata": {},
   "outputs": [],
   "source": []
  }
 ],
 "metadata": {
  "kernelspec": {
   "display_name": "Python 3",
   "language": "python",
   "name": "python3"
  },
  "language_info": {
   "codemirror_mode": {
    "name": "ipython",
    "version": 3
   },
   "file_extension": ".py",
   "mimetype": "text/x-python",
   "name": "python",
   "nbconvert_exporter": "python",
   "pygments_lexer": "ipython3",
   "version": "3.8.8"
  }
 },
 "nbformat": 4,
 "nbformat_minor": 5
}
