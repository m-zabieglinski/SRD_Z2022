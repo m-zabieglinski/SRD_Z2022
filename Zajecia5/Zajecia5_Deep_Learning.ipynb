{
 "cells": [
  {
   "cell_type": "markdown",
   "metadata": {},
   "source": [
    "# Convolutional Neural Networks"
   ]
  },
  {
   "cell_type": "markdown",
   "metadata": {},
   "source": [
    "## Fashion-MNIST classification"
   ]
  },
  {
   "cell_type": "markdown",
   "metadata": {},
   "source": [
    "[Fashion MNIST Github Repo](https://github.com/zalandoresearch/fashion-mnist)"
   ]
  },
  {
   "cell_type": "markdown",
   "metadata": {},
   "source": [
    "### Data load and preprocessing"
   ]
  },
  {
   "cell_type": "code",
   "execution_count": 1,
   "metadata": {},
   "outputs": [],
   "source": [
    "%%capture\n",
    "!pip install tensorflow"
   ]
  },
  {
   "cell_type": "code",
   "execution_count": 2,
   "metadata": {},
   "outputs": [],
   "source": [
    "#Import required packages\n",
    "import numpy as np\n",
    "import pandas as pd\n",
    "from sklearn.model_selection import train_test_split\n",
    "from sklearn.metrics import classification_report\n",
    "import tensorflow as tf\n",
    "from tensorflow.keras.layers import Dense, Flatten, Conv2D, Dropout, MaxPooling2D\n",
    "import seaborn as sns\n",
    "import matplotlib.pyplot as plt"
   ]
  },
  {
   "cell_type": "code",
   "execution_count": 3,
   "metadata": {},
   "outputs": [
    {
     "name": "stdout",
     "output_type": "stream",
     "text": [
      "Downloading data from https://storage.googleapis.com/tensorflow/tf-keras-datasets/train-labels-idx1-ubyte.gz\n",
      "32768/29515 [=================================] - 0s 1us/step\n",
      "40960/29515 [=========================================] - 0s 1us/step\n",
      "Downloading data from https://storage.googleapis.com/tensorflow/tf-keras-datasets/train-images-idx3-ubyte.gz\n",
      "26427392/26421880 [==============================] - 11s 0us/step\n",
      "26435584/26421880 [==============================] - 11s 0us/step\n",
      "Downloading data from https://storage.googleapis.com/tensorflow/tf-keras-datasets/t10k-labels-idx1-ubyte.gz\n",
      "16384/5148 [===============================================================================================] - 0s 0s/step\n",
      "Downloading data from https://storage.googleapis.com/tensorflow/tf-keras-datasets/t10k-images-idx3-ubyte.gz\n",
      "4423680/4422102 [==============================] - 2s 0us/step\n",
      "4431872/4422102 [==============================] - 2s 0us/step\n"
     ]
    }
   ],
   "source": [
    "#Load train and test data\n",
    "((X_train, y_train),(X_test, y_test)) = tf.keras.datasets.fashion_mnist.load_data()"
   ]
  },
  {
   "cell_type": "code",
   "execution_count": 4,
   "metadata": {},
   "outputs": [
    {
     "name": "stdout",
     "output_type": "stream",
     "text": [
      "Fashion MNIST train: (60000, 28, 28)\n",
      "Fashion MNIST test: (10000, 28, 28)\n"
     ]
    }
   ],
   "source": [
    "#Dimensions check\n",
    "print(\"Fashion MNIST train:\", X_train.shape)\n",
    "print(\"Fashion MNIST test:\", X_test.shape)"
   ]
  },
  {
   "cell_type": "code",
   "execution_count": 5,
   "metadata": {},
   "outputs": [
    {
     "data": {
      "text/plain": [
       "array([9, 0, 0, ..., 3, 0, 5], dtype=uint8)"
      ]
     },
     "execution_count": 5,
     "metadata": {},
     "output_type": "execute_result"
    }
   ],
   "source": [
    "#Target labels\n",
    "y_train"
   ]
  },
  {
   "cell_type": "markdown",
   "metadata": {},
   "source": [
    "**There are 10 different classes of images:**\n",
    "\n",
    "* **0**: **T-shirt/top**;   \n",
    "* **1**: **Trouser**;   \n",
    "* **2**: **Pullover**;   \n",
    "* **3**: **Dress**;\n",
    "* **4**: **Coat**;\n",
    "* **5**: **Sandal**;\n",
    "* **6**: **Shirt**;\n",
    "* **7**: **Sneaker**;\n",
    "* **8**: **Bag**;\n",
    "* **9**: **Ankle boot**."
   ]
  },
  {
   "cell_type": "code",
   "execution_count": 6,
   "metadata": {},
   "outputs": [],
   "source": [
    "#Parameters\n",
    "IMG_ROWS = 28\n",
    "IMG_COLS = 28\n",
    "CLASSES = 10\n",
    "RANDOM_STATE = 42\n",
    "TEST_SIZE = 0.2\n",
    "NO_EPOCHS = 20\n",
    "BATCH_SIZE = 128"
   ]
  },
  {
   "cell_type": "code",
   "execution_count": 7,
   "metadata": {
    "scrolled": false
   },
   "outputs": [
    {
     "data": {
      "text/plain": [
       "(array([0, 1, 2, 3, 4, 5, 6, 7, 8, 9], dtype=uint8),\n",
       " array([6000, 6000, 6000, 6000, 6000, 6000, 6000, 6000, 6000, 6000],\n",
       "       dtype=int64))"
      ]
     },
     "execution_count": 7,
     "metadata": {},
     "output_type": "execute_result"
    }
   ],
   "source": [
    "#Check labels distribution in training set\n",
    "np.unique(y_train, return_counts=True)"
   ]
  },
  {
   "cell_type": "code",
   "execution_count": 8,
   "metadata": {
    "scrolled": true
   },
   "outputs": [
    {
     "data": {
      "text/plain": [
       "(array([0, 1, 2, 3, 4, 5, 6, 7, 8, 9], dtype=uint8),\n",
       " array([1000, 1000, 1000, 1000, 1000, 1000, 1000, 1000, 1000, 1000],\n",
       "       dtype=int64))"
      ]
     },
     "execution_count": 8,
     "metadata": {},
     "output_type": "execute_result"
    }
   ],
   "source": [
    "#Check labels distribution in test set\n",
    "np.unique(y_test, return_counts=True)"
   ]
  },
  {
   "cell_type": "code",
   "execution_count": 12,
   "metadata": {},
   "outputs": [],
   "source": [
    "#Normalize the pixels into [0;1] range\n",
    "X_train = X_train/255\n",
    "X_test = X_test/255"
   ]
  },
  {
   "cell_type": "code",
   "execution_count": 13,
   "metadata": {},
   "outputs": [],
   "source": [
    "#Split the train data into train and validation\n",
    "X_train, X_val, y_train, y_val = train_test_split(X_train, y_train, test_size=TEST_SIZE, random_state=RANDOM_STATE)"
   ]
  },
  {
   "cell_type": "code",
   "execution_count": 14,
   "metadata": {},
   "outputs": [
    {
     "data": {
      "text/plain": [
       "(38400, 28, 28)"
      ]
     },
     "execution_count": 14,
     "metadata": {},
     "output_type": "execute_result"
    }
   ],
   "source": [
    "X_train.shape"
   ]
  },
  {
   "cell_type": "markdown",
   "metadata": {},
   "source": [
    "### Build model specification"
   ]
  },
  {
   "cell_type": "code",
   "execution_count": 15,
   "metadata": {},
   "outputs": [],
   "source": [
    "# Build sequential model with Keras\n",
    "model = tf.keras.Sequential()\n",
    "model.add(Conv2D(32, kernel_size=(3, 3),\n",
    "                 activation='relu',\n",
    "                 kernel_initializer='he_normal',\n",
    "                 input_shape=(IMG_ROWS, IMG_COLS, 1)))\n",
    "model.add(MaxPooling2D((2, 2)))\n",
    "model.add(Dropout(0.25))\n",
    "model.add(Conv2D(64, \n",
    "                 kernel_size=(3, 3), \n",
    "                 activation='relu'))\n",
    "model.add(MaxPooling2D(pool_size=(2, 2)))\n",
    "model.add(Dropout(0.25))\n",
    "model.add(Conv2D(128, (3, 3), activation='relu'))\n",
    "model.add(Dropout(0.4))\n",
    "model.add(Flatten())\n",
    "model.add(Dense(128, activation='relu'))\n",
    "model.add(Dropout(0.3))\n",
    "model.add(Dense(CLASSES, activation='softmax'))\n",
    "\n",
    "model.compile(loss='sparse_categorical_crossentropy',\n",
    "              optimizer='adam',\n",
    "              metrics=['accuracy'])"
   ]
  },
  {
   "cell_type": "code",
   "execution_count": 16,
   "metadata": {
    "scrolled": false
   },
   "outputs": [
    {
     "name": "stdout",
     "output_type": "stream",
     "text": [
      "Model: \"sequential\"\n",
      "_________________________________________________________________\n",
      " Layer (type)                Output Shape              Param #   \n",
      "=================================================================\n",
      " conv2d (Conv2D)             (None, 26, 26, 32)        320       \n",
      "                                                                 \n",
      " max_pooling2d (MaxPooling2D  (None, 13, 13, 32)       0         \n",
      " )                                                               \n",
      "                                                                 \n",
      " dropout (Dropout)           (None, 13, 13, 32)        0         \n",
      "                                                                 \n",
      " conv2d_1 (Conv2D)           (None, 11, 11, 64)        18496     \n",
      "                                                                 \n",
      " max_pooling2d_1 (MaxPooling  (None, 5, 5, 64)         0         \n",
      " 2D)                                                             \n",
      "                                                                 \n",
      " dropout_1 (Dropout)         (None, 5, 5, 64)          0         \n",
      "                                                                 \n",
      " conv2d_2 (Conv2D)           (None, 3, 3, 128)         73856     \n",
      "                                                                 \n",
      " dropout_2 (Dropout)         (None, 3, 3, 128)         0         \n",
      "                                                                 \n",
      " flatten (Flatten)           (None, 1152)              0         \n",
      "                                                                 \n",
      " dense (Dense)               (None, 128)               147584    \n",
      "                                                                 \n",
      " dropout_3 (Dropout)         (None, 128)               0         \n",
      "                                                                 \n",
      " dense_1 (Dense)             (None, 10)                1290      \n",
      "                                                                 \n",
      "=================================================================\n",
      "Total params: 241,546\n",
      "Trainable params: 241,546\n",
      "Non-trainable params: 0\n",
      "_________________________________________________________________\n"
     ]
    }
   ],
   "source": [
    "model.summary()"
   ]
  },
  {
   "cell_type": "markdown",
   "metadata": {},
   "source": [
    "### Training and evaluating model"
   ]
  },
  {
   "cell_type": "code",
   "execution_count": 17,
   "metadata": {
    "scrolled": false
   },
   "outputs": [
    {
     "name": "stdout",
     "output_type": "stream",
     "text": [
      "Epoch 1/20\n",
      "300/300 [==============================] - 14s 38ms/step - loss: 1.1969 - accuracy: 0.5544 - val_loss: 0.7565 - val_accuracy: 0.7144\n",
      "Epoch 2/20\n",
      "300/300 [==============================] - 11s 36ms/step - loss: 0.7939 - accuracy: 0.6991 - val_loss: 0.6658 - val_accuracy: 0.7373\n",
      "Epoch 3/20\n",
      "300/300 [==============================] - 11s 37ms/step - loss: 0.7147 - accuracy: 0.7284 - val_loss: 0.6056 - val_accuracy: 0.7636\n",
      "Epoch 4/20\n",
      "300/300 [==============================] - 11s 36ms/step - loss: 0.6619 - accuracy: 0.7455 - val_loss: 0.5589 - val_accuracy: 0.7855\n",
      "Epoch 5/20\n",
      "300/300 [==============================] - 11s 36ms/step - loss: 0.6215 - accuracy: 0.7609 - val_loss: 0.5172 - val_accuracy: 0.8062\n",
      "Epoch 6/20\n",
      "300/300 [==============================] - 11s 36ms/step - loss: 0.5904 - accuracy: 0.7741 - val_loss: 0.5110 - val_accuracy: 0.8080\n",
      "Epoch 7/20\n",
      "300/300 [==============================] - 11s 36ms/step - loss: 0.5650 - accuracy: 0.7831 - val_loss: 0.4792 - val_accuracy: 0.8125\n",
      "Epoch 8/20\n",
      "300/300 [==============================] - 11s 36ms/step - loss: 0.5419 - accuracy: 0.7921 - val_loss: 0.4571 - val_accuracy: 0.8317\n",
      "Epoch 9/20\n",
      "300/300 [==============================] - 11s 36ms/step - loss: 0.5269 - accuracy: 0.7982 - val_loss: 0.4421 - val_accuracy: 0.8378\n",
      "Epoch 10/20\n",
      "300/300 [==============================] - 11s 36ms/step - loss: 0.5136 - accuracy: 0.8051 - val_loss: 0.4382 - val_accuracy: 0.8336\n",
      "Epoch 11/20\n",
      "300/300 [==============================] - 11s 37ms/step - loss: 0.5002 - accuracy: 0.8097 - val_loss: 0.4348 - val_accuracy: 0.8403\n",
      "Epoch 12/20\n",
      "300/300 [==============================] - 11s 36ms/step - loss: 0.4883 - accuracy: 0.8153 - val_loss: 0.4075 - val_accuracy: 0.8473\n",
      "Epoch 13/20\n",
      "300/300 [==============================] - 11s 36ms/step - loss: 0.4773 - accuracy: 0.8195 - val_loss: 0.3960 - val_accuracy: 0.8491\n",
      "Epoch 14/20\n",
      "300/300 [==============================] - 11s 36ms/step - loss: 0.4646 - accuracy: 0.8253 - val_loss: 0.3918 - val_accuracy: 0.8564\n",
      "Epoch 15/20\n",
      "300/300 [==============================] - 12s 40ms/step - loss: 0.4602 - accuracy: 0.8266 - val_loss: 0.3864 - val_accuracy: 0.8583\n",
      "Epoch 16/20\n",
      "300/300 [==============================] - 11s 37ms/step - loss: 0.4467 - accuracy: 0.8299 - val_loss: 0.3944 - val_accuracy: 0.8561\n",
      "Epoch 17/20\n",
      "300/300 [==============================] - 11s 36ms/step - loss: 0.4408 - accuracy: 0.8324 - val_loss: 0.3629 - val_accuracy: 0.8655\n",
      "Epoch 18/20\n",
      "300/300 [==============================] - 11s 36ms/step - loss: 0.4329 - accuracy: 0.8369 - val_loss: 0.3662 - val_accuracy: 0.8665\n",
      "Epoch 19/20\n",
      "300/300 [==============================] - 11s 36ms/step - loss: 0.4232 - accuracy: 0.8404 - val_loss: 0.3691 - val_accuracy: 0.8637\n",
      "Epoch 20/20\n",
      "300/300 [==============================] - 11s 36ms/step - loss: 0.4192 - accuracy: 0.8420 - val_loss: 0.3464 - val_accuracy: 0.8742\n"
     ]
    }
   ],
   "source": [
    "#Running model training\n",
    "train_model = model.fit(X_train, y_train,\n",
    "                  batch_size=BATCH_SIZE,\n",
    "                  epochs=NO_EPOCHS,\n",
    "                  verbose=1,\n",
    "                  validation_data=(X_val, y_val))"
   ]
  },
  {
   "cell_type": "code",
   "execution_count": 18,
   "metadata": {},
   "outputs": [
    {
     "name": "stdout",
     "output_type": "stream",
     "text": [
      "Test accuracy: 0.8616999983787537\n"
     ]
    }
   ],
   "source": [
    "#Accuracy on test set\n",
    "score = model.evaluate(X_test, y_test, verbose=0)\n",
    "print('Test accuracy:', score[1])"
   ]
  },
  {
   "cell_type": "code",
   "execution_count": 19,
   "metadata": {},
   "outputs": [
    {
     "data": {
      "image/png": "[encoded data removed]",
      "text/plain": [
       "<Figure size 720x504 with 1 Axes>"
      ]
     },
     "metadata": {
      "needs_background": "light"
     },
     "output_type": "display_data"
    }
   ],
   "source": [
    "#Plot of accuracy value for training and validation set in each epoch\n",
    "plt.figure(figsize = (10,7))\n",
    "hist = train_model.history\n",
    "x = np.arange(1,21)\n",
    "plt.plot(x, hist['accuracy'], 'o-', label ='train')\n",
    "plt.plot(x, hist['val_accuracy'], 'o-', label = 'validation')\n",
    "plt.xticks(x)\n",
    "plt.xlabel('Epoch'); plt.ylabel('Accuracy')\n",
    "plt.title('Convolutional Deep Neural Network')\n",
    "plt.legend();"
   ]
  },
  {
   "cell_type": "code",
   "execution_count": 20,
   "metadata": {
    "scrolled": true
   },
   "outputs": [
    {
     "name": "stdout",
     "output_type": "stream",
     "text": [
      "                         precision    recall  f1-score   support\n",
      "\n",
      "Class 0 (T-shirt/top) :       0.79      0.86      0.83      1000\n",
      "   Class 1 (Trousers) :       0.99      0.97      0.98      1000\n",
      "   Class 2 (Pullover) :       0.75      0.78      0.76      1000\n",
      "      Class 3 (Dress) :       0.87      0.89      0.88      1000\n",
      "       Class 4 (Coat) :       0.71      0.82      0.76      1000\n",
      "     Class 5 (Sandal) :       0.97      0.96      0.96      1000\n",
      "      Class 6 (Shirt) :       0.69      0.47      0.56      1000\n",
      "    Class 7 (Sneaker) :       0.92      0.96      0.94      1000\n",
      "        Class 8 (Bag) :       0.96      0.96      0.96      1000\n",
      " Class 9 (Ankle Boot) :       0.96      0.93      0.95      1000\n",
      "\n",
      "               accuracy                           0.86     10000\n",
      "              macro avg       0.86      0.86      0.86     10000\n",
      "           weighted avg       0.86      0.86      0.86     10000\n",
      "\n"
     ]
    }
   ],
   "source": [
    "#Checking fit metrics across all classes\n",
    "predicted_classes = np.argmax(model.predict(X_test), axis=1)\n",
    "labels = {0 : \"T-shirt/top\", 1: \"Trousers\", 2: \"Pullover\", 3: \"Dress\", 4: \"Coat\",\n",
    "          5: \"Sandal\", 6: \"Shirt\", 7: \"Sneaker\", 8: \"Bag\", 9: \"Ankle Boot\"}\n",
    "target_names = [\"Class {} ({}) :\".format(i, labels[i]) for i in range(CLASSES)]\n",
    "print(classification_report(y_test, predicted_classes, target_names=target_names))"
   ]
  },
  {
   "cell_type": "code",
   "execution_count": 21,
   "metadata": {},
   "outputs": [
    {
     "data": {
      "image/png": "[encoded data removed]",
      "text/plain": [
       "<Figure size 720x504 with 2 Axes>"
      ]
     },
     "metadata": {
      "needs_background": "light"
     },
     "output_type": "display_data"
    }
   ],
   "source": [
    "#Multiclass onfusion matrix (heatmap)\n",
    "confmat = pd.crosstab(pd.Series(y_test, name=\"True labels\"),\n",
    "                      pd.Series(predicted_classes, name=\"Predicted labels\"))\n",
    "plt.figure(figsize = (10,7))\n",
    "sns.heatmap(confmat, annot=True, fmt='g');"
   ]
  },
  {
   "cell_type": "markdown",
   "metadata": {},
   "source": [
    "As f1-score combine both precision and recall let's focus on analyzing that metric.\n",
    "By looking on f1-score we can see that some classes were predicted better than other.\n",
    "\n",
    "Shirt is similar to T-shirt, so model may have problem with distingushing those two."
   ]
  },
  {
   "cell_type": "code",
   "execution_count": 22,
   "metadata": {},
   "outputs": [],
   "source": [
    "#Save model for deployment\n",
    "model.save('FMNIST_Model.h5')"
   ]
  },
  {
   "cell_type": "code",
   "execution_count": 23,
   "metadata": {},
   "outputs": [],
   "source": [
    "#Saving first observation from the training data into CSV file\n",
    "np.savetxt('observation.csv', X_train[0]*255, delimiter=',', fmt='%g')"
   ]
  },
  {
   "cell_type": "code",
   "execution_count": 24,
   "metadata": {},
   "outputs": [
    {
     "data": {
      "text/plain": [
       "9"
      ]
     },
     "execution_count": 24,
     "metadata": {},
     "output_type": "execute_result"
    }
   ],
   "source": [
    "y_train[0]"
   ]
  },
  {
   "cell_type": "markdown",
   "metadata": {},
   "source": [
    "## Model deployment"
   ]
  },
  {
   "cell_type": "markdown",
   "metadata": {},
   "source": [
    "Model is embedded into Flask web service and exposed on the localhost."
   ]
  },
  {
   "cell_type": "code",
   "execution_count": 29,
   "metadata": {},
   "outputs": [
    {
     "name": "stdout",
     "output_type": "stream",
     "text": [
      "* Loading Keras model and Flask server...\n",
      " * Serving Flask app \"__main__\" (lazy loading)\n",
      " * Environment: production\n",
      "   WARNING: This is a development server. Do not use it in a production deployment.\n",
      "   Use a production WSGI server instead.\n",
      " * Debug mode: off\n"
     ]
    },
    {
     "name": "stderr",
     "output_type": "stream",
     "text": [
      " * Running on http://0.0.0.0:5000/ (Press CTRL+C to quit)\n"
     ]
    }
   ],
   "source": [
    "import flask\n",
    "import tensorflow\n",
    "import numpy as np\n",
    "\n",
    "app = flask.Flask(__name__)\n",
    "model = None\n",
    "\n",
    "def load_model():\n",
    "    global model \n",
    "    model = tensorflow.keras.models.load_model('FMNIST_Model.h5')\n",
    "\n",
    "@app.route(\"/\")\n",
    "def hello():\n",
    "    return \"This is Fashion MNIST prediction app. Use <b>/predict</b> endpoint with POST request e.g. <br><br> curl -X POST -F image=@observation.csv 'http://localhost:5000/predict'\"\n",
    "\n",
    "@app.route(\"/predict\", methods=[\"POST\"])\n",
    "def predict():\n",
    "    data = {\"success\": False}\n",
    "    if flask.request.method == \"POST\":\n",
    "        if flask.request.files.get(\"image\"):\n",
    "            image = np.genfromtxt(flask.request.files[\"image\"], delimiter=',')/255\n",
    "            image = image.reshape(1,28, 28, 1)\n",
    "            preds = model.predict(image).tolist()[0]\n",
    "            data[\"predictions\"] = []\n",
    "            for (label, prob) in enumerate(preds):\n",
    "                r = {\"label\": label, \"probability\": float(prob)}\n",
    "                data[\"predictions\"].append(r)\n",
    "            data[\"success\"] = True\n",
    "\n",
    "    return flask.jsonify(data)\n",
    "if __name__ == \"__main__\":\n",
    "    print(\"* Loading Keras model and Flask server...\")\n",
    "    load_model()\n",
    "    app.run(host='0.0.0.0',threaded=False)"
   ]
  },
  {
   "cell_type": "code",
   "execution_count": 26,
   "metadata": {},
   "outputs": [
    {
     "name": "stderr",
     "output_type": "stream",
     "text": [
      "'jq' is not recognized as an internal or external command,\n",
      "operable program or batch file.\n"
     ]
    }
   ],
   "source": [
    "!curl -X POST -F image=@observation.csv 'http://localhost:5000/predict' | jq"
   ]
  },
  {
   "cell_type": "markdown",
   "metadata": {},
   "source": [
    "The app can also be launched in terminal by switching working directory to `keras-app` folder and running\n",
    "```shell\n",
    "python app.py\n",
    "```"
   ]
  },
  {
   "cell_type": "markdown",
   "metadata": {},
   "source": [
    "To make the model deployment maintainable and scalable, the app can be containerized e.g. using Docker. Containers are easy to distribute and run on multiple machines. The containers can also be run on public cloud services such as [Cloud Run](https://cloud.google.com/run) - the managed services make it easier to monitor and maintain the ML applications."
   ]
  },
  {
   "cell_type": "code",
   "execution_count": 27,
   "metadata": {},
   "outputs": [
    {
     "name": "stderr",
     "output_type": "stream",
     "text": [
      "'jq' is not recognized as an internal or external command,\n",
      "operable program or batch file.\n"
     ]
    }
   ],
   "source": [
    "!curl -X POST -F image=@observation.csv 'https://fmnist-service-gkgytk6vja-lm.a.run.app/predict' | jq"
   ]
  },
  {
   "cell_type": "code",
   "execution_count": null,
   "metadata": {},
   "outputs": [],
   "source": []
  },
  {
   "cell_type": "code",
   "execution_count": null,
   "metadata": {},
   "outputs": [],
   "source": []
  }
 ],
 "metadata": {
  "kernelspec": {
   "display_name": "Python 3",
   "language": "python",
   "name": "python3"
  },
  "language_info": {
   "codemirror_mode": {
    "name": "ipython",
    "version": 3
   },
   "file_extension": ".py",
   "mimetype": "text/x-python",
   "name": "python",
   "nbconvert_exporter": "python",
   "pygments_lexer": "ipython3",
   "version": "3.8.8"
  },
  "toc": {
   "base_numbering": 1,
   "nav_menu": {},
   "number_sections": false,
   "sideBar": true,
   "skip_h1_title": false,
   "title_cell": "Table of Contents",
   "title_sidebar": "Contents",
   "toc_cell": false,
   "toc_position": {},
   "toc_section_display": true,
   "toc_window_display": false
  }
 },
 "nbformat": 4,
 "nbformat_minor": 2
}
